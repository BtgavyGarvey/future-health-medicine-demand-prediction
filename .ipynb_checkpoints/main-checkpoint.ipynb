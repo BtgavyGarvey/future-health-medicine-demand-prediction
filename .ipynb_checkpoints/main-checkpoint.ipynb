{
 "cells": [
  {
   "cell_type": "code",
   "execution_count": 1,
   "id": "bd9b069c-954e-4c13-9165-520b4794a385",
   "metadata": {},
   "outputs": [],
   "source": [
    "# Import necessary libraries\n",
    "import pymongo\n",
    "from pymongo import MongoClient\n",
    "import joblib\n",
    "from sklearn.preprocessing import LabelEncoder\n",
    "import pandas as pd\n",
    "from flask import Flask, jsonify, request\n",
    "import jsonpickle\n",
    "\n",
    "# Connect to MongoDB\n",
    "app = Flask(__name__)\n",
    "client = MongoClient('mongodb://localhost:27017/')\n",
    "\n",
    "# Access the database\n",
    "db = client['Pharmacy']\n",
    "\n",
    "# Access the collection\n",
    "collection = db['sales']\n",
    "\n",
    "# Load the Jupyter Lab prediction model\n",
    "@app.route('/api/v1/model', methods=['GET'])\n",
    "def get_model():\n",
    "    model = joblib.load('./pharma_model.pkl')\n",
    "    return model\n",
    "\n",
    "model=get_model()\n",
    "\n",
    "def predict_sales(data): # dates selected from celander and category(int) from options\n",
    "    # Generate a range of dates\n",
    "    print(data)\n",
    "\n",
    "    dates = pd.date_range(start=data['start_date'], end=data['end_date'], freq='D')\n",
    "    # Create the DataFrame with dates as the index\n",
    "    df_test = pd.DataFrame(index=dates)    \n",
    "    df_test['Year'] = df_test.index.year\n",
    "    df_test['Month'] = df_test.index.month\n",
    "    df_test['Weekday Name'] = df_test.index.weekday\n",
    "    df_test['day'] = df_test.index.day\n",
    "    df_test['Drug'] = data['drug']\n",
    "    \n",
    "    le = LabelEncoder()\n",
    "    # df_test['Weekday Name'] = le.fit_transform(df_test['Weekday Name'])\n",
    "    \n",
    "    df_test['predicted_quantity'] = model.predict(df_test)\n",
    "    return df_test\n",
    "\n",
    "# prediction=predict_sales(start_date = '2024-01-01',end_date = '2024-01-31',drug = 0)\n",
    "\n",
    "# print(prediction)\n",
    "# Make predictions using the model\n",
    "# Store the predictions in MongoDB\n",
    "#collection.insert_many(predictions)\n"
   ]
  },
  {
   "cell_type": "code",
   "execution_count": 2,
   "id": "60bf351b-8f4f-4905-9417-827c1c067256",
   "metadata": {},
   "outputs": [],
   "source": [
    "@app.route('/api/v1/predict', methods=['POST'])\n",
    "def predict():\n",
    "    data = request.get_json()\n",
    "\n",
    "    # Assuming you have a model function for prediction\n",
    "    result = predict_sales(data)\n",
    "    result.to_dict()\n",
    "    # result = list(enumerate(result))\n",
    "    # return jsonify({'prediction': result})\n",
    "    jsonEncoded=jsonpickle.encode(result)\n",
    "    print(jsonEncoded)\n",
    "    return jsonEncoded\n"
   ]
  },
  {
   "cell_type": "code",
   "execution_count": null,
   "id": "5e03fdbb-b22f-432a-8076-df92b2b8faef",
   "metadata": {},
   "outputs": [
    {
     "name": "stdout",
     "output_type": "stream",
     "text": [
      " * Serving Flask app '__main__'\n",
      " * Debug mode: off\n"
     ]
    },
    {
     "name": "stderr",
     "output_type": "stream",
     "text": [
      "WARNING: This is a development server. Do not use it in a production deployment. Use a production WSGI server instead.\n",
      " * Running on http://127.0.0.1:5000\n",
      "Press CTRL+C to quit\n",
      "[2023-11-09 09:34:40,840] ERROR in app: Exception on /api/v1/predict [POST]\n",
      "Traceback (most recent call last):\n",
      "  File \"C:\\Users\\mesha\\AppData\\Local\\Programs\\Python\\Python312\\Lib\\site-packages\\flask\\app.py\", line 1455, in wsgi_app\n",
      "    response = self.full_dispatch_request()\n",
      "               ^^^^^^^^^^^^^^^^^^^^^^^^^^^^\n",
      "  File \"C:\\Users\\mesha\\AppData\\Local\\Programs\\Python\\Python312\\Lib\\site-packages\\flask\\app.py\", line 869, in full_dispatch_request\n",
      "    rv = self.handle_user_exception(e)\n",
      "         ^^^^^^^^^^^^^^^^^^^^^^^^^^^^^\n",
      "  File \"C:\\Users\\mesha\\AppData\\Local\\Programs\\Python\\Python312\\Lib\\site-packages\\flask\\app.py\", line 867, in full_dispatch_request\n",
      "    rv = self.dispatch_request()\n",
      "         ^^^^^^^^^^^^^^^^^^^^^^^\n",
      "  File \"C:\\Users\\mesha\\AppData\\Local\\Programs\\Python\\Python312\\Lib\\site-packages\\flask\\app.py\", line 852, in dispatch_request\n",
      "    return self.ensure_sync(self.view_functions[rule.endpoint])(**view_args)\n",
      "           ^^^^^^^^^^^^^^^^^^^^^^^^^^^^^^^^^^^^^^^^^^^^^^^^^^^^^^^^^^^^^^^^^\n",
      "  File \"C:\\Users\\mesha\\AppData\\Local\\Temp\\ipykernel_16924\\1169078851.py\", line 10, in predict\n",
      "    jsonEncoded=jsonpickle.decode(result)\n",
      "                ^^^^^^^^^^^^^^^^^^^^^^^^^\n",
      "  File \"C:\\Users\\mesha\\AppData\\Local\\Programs\\Python\\Python312\\Lib\\site-packages\\jsonpickle\\unpickler.py\", line 87, in decode\n",
      "    data = backend.decode(string)\n",
      "           ^^^^^^^^^^^^^^^^^^^^^^\n",
      "  File \"C:\\Users\\mesha\\AppData\\Local\\Programs\\Python\\Python312\\Lib\\site-packages\\jsonpickle\\backend.py\", line 69, in decode\n",
      "    return self.backend_decode(name, string)\n",
      "           ^^^^^^^^^^^^^^^^^^^^^^^^^^^^^^^^^\n",
      "  File \"C:\\Users\\mesha\\AppData\\Local\\Programs\\Python\\Python312\\Lib\\site-packages\\jsonpickle\\backend.py\", line 221, in backend_decode\n",
      "    return self._decoders[name](string, *optargs, **decoder_kwargs)\n",
      "           ^^^^^^^^^^^^^^^^^^^^^^^^^^^^^^^^^^^^^^^^^^^^^^^^^^^^^^^^\n",
      "  File \"C:\\Users\\mesha\\AppData\\Local\\Programs\\Python\\Python312\\Lib\\json\\__init__.py\", line 339, in loads\n",
      "    raise TypeError(f'the JSON object must be str, bytes or bytearray, '\n",
      "TypeError: the JSON object must be str, bytes or bytearray, not list\n",
      "127.0.0.1 - - [09/Nov/2023 09:34:40] \"POST /api/v1/predict HTTP/1.1\" 500 -\n"
     ]
    },
    {
     "name": "stdout",
     "output_type": "stream",
     "text": [
      "{'start_date': '2023-2-1', 'end_date': '2023-3-31', 'drug': 3}\n"
     ]
    }
   ],
   "source": [
    "if __name__ == '__main__':\n",
    "    app.run(port=5000)"
   ]
  },
  {
   "cell_type": "code",
   "execution_count": null,
   "id": "735abddb-e827-4b5b-98ec-78565d8da2fb",
   "metadata": {},
   "outputs": [],
   "source": []
  }
 ],
 "metadata": {
  "kernelspec": {
   "display_name": "Python 3 (ipykernel)",
   "language": "python",
   "name": "python3"
  },
  "language_info": {
   "codemirror_mode": {
    "name": "ipython",
    "version": 3
   },
   "file_extension": ".py",
   "mimetype": "text/x-python",
   "name": "python",
   "nbconvert_exporter": "python",
   "pygments_lexer": "ipython3",
   "version": "3.12.0"
  }
 },
 "nbformat": 4,
 "nbformat_minor": 5
}
