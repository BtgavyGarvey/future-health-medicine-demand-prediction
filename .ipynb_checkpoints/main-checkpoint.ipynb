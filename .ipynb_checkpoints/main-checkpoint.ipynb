{
 "cells": [
  {
   "cell_type": "code",
   "execution_count": 2,
   "id": "bd9b069c-954e-4c13-9165-520b4794a385",
   "metadata": {},
   "outputs": [],
   "source": [
    "# Import necessary libraries\n",
    "import pymongo\n",
    "from pymongo import MongoClient\n",
    "import joblib\n",
    "from sklearn.preprocessing import LabelEncoder\n",
    "import pandas as pd\n",
    "from flask import Flask, jsonify, request\n",
    "import jsonpickle\n",
    "\n",
    "# Connect to MongoDB\n",
    "app = Flask(__name__)\n",
    "client = MongoClient('mongodb://localhost:27017/')\n",
    "\n",
    "# Access the database\n",
    "db = client['Pharmacy']\n",
    "\n",
    "# Access the collection\n",
    "collection = db['sales']\n",
    "\n",
    "# Load the Jupyter Lab prediction model\n",
    "@app.route('/api/v1/model', methods=['GET'])\n",
    "def get_model():\n",
    "    model = joblib.load('./pharma_model.pkl')\n",
    "    return model\n",
    "\n",
    "model=get_model()\n",
    "\n",
    "def predict_sales(data): \n",
    "    # Generate a range of dates\n",
    "    # print(data)\n",
    "\n",
    "    dates = pd.date_range(start=data['startDate'], end=data['endDate'], freq='D')\n",
    "    # Create the DataFrame with dates as the index\n",
    "    df_test = pd.DataFrame(index=dates)    \n",
    "    df_test['Year'] = df_test.index.year\n",
    "    df_test['Month'] = df_test.index.month\n",
    "    df_test['Weekday Name'] = df_test.index.weekday\n",
    "    df_test['day'] = df_test.index.day\n",
    "    df_test['Drug'] = data['drug']\n",
    "    print(data)\n",
    "    \n",
    "    le = LabelEncoder()\n",
    "    # df_test['Weekday Name'] = le.fit_transform(df_test['Weekday Name'])\n",
    "    \n",
    "    df_test['predicted_quantity'] = model.predict(df_test)\n",
    "    df_test.index = df_test.index.astype(str)\n",
    "\n",
    "    # Convert the DataFrame to a dictionary\n",
    "    result_dict = df_test.to_dict()\n",
    "    \n",
    "    return result_dict\n",
    "\n",
    "# Store the predictions in MongoDB\n",
    "#collection.insert_many(predictions)\n"
   ]
  },
  {
   "cell_type": "code",
   "execution_count": 3,
   "id": "60bf351b-8f4f-4905-9417-827c1c067256",
   "metadata": {},
   "outputs": [],
   "source": [
    "@app.route('/api/v1/predict', methods=['POST'])\n",
    "def predict():\n",
    "    data = request.get_json()\n",
    "\n",
    "    # Assuming you have a model function for prediction\n",
    "    result = predict_sales(data)\n",
    "    # result_dict=result.to_dict()\n",
    "    # result = list(enumerate(result_dict))\n",
    "    return jsonify(result)\n",
    "    # jsonEncoded=jsonpickle.encode(result)\n",
    "    # print(result)\n",
    "    # return jsonEncoded\n",
    "    # return jsonify({'prediction': result_dict})\n",
    "\n",
    "\n"
   ]
  },
  {
   "cell_type": "code",
   "execution_count": 4,
   "id": "5e03fdbb-b22f-432a-8076-df92b2b8faef",
   "metadata": {
    "scrolled": true
   },
   "outputs": [
    {
     "name": "stdout",
     "output_type": "stream",
     "text": [
      " * Serving Flask app '__main__'\n",
      " * Debug mode: off\n"
     ]
    },
    {
     "name": "stderr",
     "output_type": "stream",
     "text": [
      "WARNING: This is a development server. Do not use it in a production deployment. Use a production WSGI server instead.\n",
      " * Running on http://127.0.0.1:5000\n",
      "Press CTRL+C to quit\n",
      "127.0.0.1 - - [01/Dec/2023 12:32:54] \"POST /api/v1/predict HTTP/1.1\" 200 -\n"
     ]
    },
    {
     "name": "stdout",
     "output_type": "stream",
     "text": [
      "{'drug': 5, 'startDate': '2023-12-31', 'endDate': '2023-12-31'}\n"
     ]
    },
    {
     "name": "stderr",
     "output_type": "stream",
     "text": [
      "127.0.0.1 - - [01/Dec/2023 12:33:31] \"POST /api/v1/predict HTTP/1.1\" 200 -\n"
     ]
    },
    {
     "name": "stdout",
     "output_type": "stream",
     "text": [
      "{'drug': 5, 'startDate': '2023-12-01', 'endDate': '2023-12-31'}\n"
     ]
    },
    {
     "name": "stderr",
     "output_type": "stream",
     "text": [
      "127.0.0.1 - - [01/Dec/2023 12:34:15] \"POST /api/v1/predict HTTP/1.1\" 200 -\n"
     ]
    },
    {
     "name": "stdout",
     "output_type": "stream",
     "text": [
      "{'drug': 1, 'startDate': '2023-12-01', 'endDate': '2023-12-31'}\n"
     ]
    }
   ],
   "source": [
    "if __name__ == '__main__':\n",
    "    app.run(port=5000)"
   ]
  },
  {
   "cell_type": "code",
   "execution_count": null,
   "id": "735abddb-e827-4b5b-98ec-78565d8da2fb",
   "metadata": {},
   "outputs": [],
   "source": []
  }
 ],
 "metadata": {
  "kernelspec": {
   "display_name": "Python 3 (ipykernel)",
   "language": "python",
   "name": "python3"
  },
  "language_info": {
   "codemirror_mode": {
    "name": "ipython",
    "version": 3
   },
   "file_extension": ".py",
   "mimetype": "text/x-python",
   "name": "python",
   "nbconvert_exporter": "python",
   "pygments_lexer": "ipython3",
   "version": "3.12.0"
  }
 },
 "nbformat": 4,
 "nbformat_minor": 5
}
